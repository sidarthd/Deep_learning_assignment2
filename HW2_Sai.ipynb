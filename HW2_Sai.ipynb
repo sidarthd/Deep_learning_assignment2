{
  "nbformat": 4,
  "nbformat_minor": 0,
  "metadata": {
    "colab": {
      "name": "HW2_Sai.ipynb",
      "version": "0.3.2",
      "provenance": [],
      "collapsed_sections": []
    },
    "kernelspec": {
      "name": "python3",
      "display_name": "Python 3"
    },
    "accelerator": "GPU"
  },
  "cells": [
    {
      "cell_type": "code",
      "metadata": {
        "id": "MohuZ86E8Ep2",
        "colab_type": "code",
        "colab": {}
      },
      "source": [
        "from __future__ import print_function\n",
        "from PIL import Image\n",
        "import numpy as np\n",
        "import torch\n",
        "import torch.utils.data as data\n",
        "import torchvision.transforms as transforms\n",
        "import torchvision.transforms as transforms\n",
        "from IPython.core.debugger import set_trace\n",
        "import matplotlib.pyplot as plt\n",
        "import torchvision "
      ],
      "execution_count": 0,
      "outputs": []
    },
    {
      "cell_type": "code",
      "metadata": {
        "id": "iUlmF5ro8K-f",
        "colab_type": "code",
        "outputId": "b95a21eb-32ce-45e7-bf89-8d65683c64bb",
        "colab": {
          "base_uri": "https://localhost:8080/",
          "height": 34
        }
      },
      "source": [
        "device = torch.device(\"cuda:0\" if torch.cuda.is_available() else \"cpu\")\n",
        "print(device)"
      ],
      "execution_count": 58,
      "outputs": [
        {
          "output_type": "stream",
          "text": [
            "cuda:0\n"
          ],
          "name": "stdout"
        }
      ]
    },
    {
      "cell_type": "code",
      "metadata": {
        "id": "qWhIRqA38Okn",
        "colab_type": "code",
        "colab": {}
      },
      "source": [
        "transform_train1 = transforms.Compose([\n",
        "    transforms.RandomCrop(32, padding=4),\n",
        "    transforms.ColorJitter(hue=0.05, saturation= 0.05),\n",
        "    transforms.RandomHorizontalFlip(p=0.5),\n",
        "    transforms.RandomRotation(90),\n",
        "    transforms.ToTensor(),\n",
        "    transforms.Normalize((0.4914, 0.4822, 0.4465), (0.2023, 0.1994, 0.2010)),\n",
        "])\n",
        "\n",
        "transform_train2 = transforms.Compose([\n",
        "    transforms.RandomCrop(32, padding=4),\n",
        "    transforms.ColorJitter(hue=0.1, saturation= 0.1),\n",
        "    transforms.RandomRotation(45),\n",
        "    transforms.ToTensor(),\n",
        "    transforms.Normalize((0.4914, 0.4822, 0.4465), (0.2023, 0.1994, 0.2010)),\n",
        "])\n",
        "\n",
        "transform_train3 = transforms.Compose([\n",
        "    transforms.RandomCrop(32, padding = 4),\n",
        "    transforms.RandomHorizontalFlip(p=0.5),\n",
        "    transforms.ToTensor(),\n",
        "    transforms.Normalize((0.4914, 0.4822, 0.4465), (0.2023, 0.1994, 0.2010)),\n",
        "])\n",
        "\n",
        "transform_test = transforms.Compose([\n",
        "    transforms.ToTensor(),\n",
        "    transforms.Normalize((0.4914, 0.4822, 0.4465), (0.2023, 0.1994, 0.2010)),\n",
        "])"
      ],
      "execution_count": 0,
      "outputs": []
    },
    {
      "cell_type": "code",
      "metadata": {
        "id": "SkS-idXM8VHO",
        "colab_type": "code",
        "colab": {}
      },
      "source": [
        "class NumpyImageDataset(data.Dataset):\n",
        "\n",
        "# image dataset from numpy arrays\n",
        "\n",
        "# Example:\n",
        "\n",
        "  def __init__(self, data_array, label_array, transform=None, label_transform=None):\n",
        "\n",
        "      self.data_tensor = data_array\n",
        "      self.label_tensor = torch.from_numpy(label_array).type('torch.LongTensor')\n",
        "      self.transform = transform\n",
        "      self.label_transform = label_transform\n",
        "      assert self.data_tensor.shape[0] == self.label_tensor.size(0)\n",
        "\n",
        "  def __getitem__(self, index):\n",
        "      img, label = self.data_tensor[index], self.label_tensor[index]\n",
        "\n",
        "      # change to PIL image\n",
        "      img = Image.fromarray(img)\n",
        "\n",
        "      if self.transform is not None:\n",
        "          # apply user-defined sequence of transformations\n",
        "          img = self.transform(img)\n",
        "\n",
        "      if self.label_transform is not None:\n",
        "          label = self.label_transform(label)\n",
        "\n",
        "      return img, label\n",
        "\n",
        "  def __len__(self):\n",
        "      return self.data_tensor.shape[0]\n",
        "    \n",
        "train_data = np.load('./cifar_train_data.npy').transpose((0,2,3,1))\n",
        "train_label = np.load('./cifar_train_label.npy')\n",
        "trainset1 = NumpyImageDataset(train_data[:45000], train_label[:45000], transform=transform_train1)\n",
        "trainset2 = NumpyImageDataset(train_data[:45000], train_label[:45000], transform=transform_train2)\n",
        "trainset = torch.utils.data.ConcatDataset([trainset1, trainset2])\n",
        "trainloader = data.DataLoader(trainset, batch_size=250, shuffle=True, num_workers=4) \n",
        "testset = NumpyImageDataset(train_data[45000:50000], train_label[45000:50000],transform = transform_test)\n",
        "testloader = torch.utils.data.DataLoader(testset, batch_size=250, shuffle=False, num_workers=4)"
      ],
      "execution_count": 0,
      "outputs": []
    },
    {
      "cell_type": "code",
      "metadata": {
        "id": "_BHw2qyz8V4z",
        "colab_type": "code",
        "outputId": "d166bf30-18b1-4fac-f837-c264980d3d33",
        "colab": {
          "base_uri": "https://localhost:8080/",
          "height": 286
        }
      },
      "source": [
        "import matplotlib.pyplot as plt\n",
        "import numpy as np\n",
        "import torchvision \n",
        "\n",
        "def imshow(img):\n",
        "    img = img / 2 + 0.5     # unnormalize\n",
        "    npimg = img.numpy()\n",
        "    plt.imshow(np.transpose(npimg, (1, 2, 0)))\n",
        "    plt.show()\n",
        "\n",
        "\n",
        "# get some random training images\n",
        "dataiter = iter(trainloader)\n",
        "images, labels = dataiter.next()\n",
        "\n",
        "# show images\n",
        "imshow(torchvision.utils.make_grid(images))\n",
        "# print labels\n",
        "#print(' '.join('%5s' % classes[labels[j]] for j in range(10)))"
      ],
      "execution_count": 61,
      "outputs": [
        {
          "output_type": "stream",
          "text": [
            "Clipping input data to the valid range for imshow with RGB data ([0..1] for floats or [0..255] for integers).\n"
          ],
          "name": "stderr"
        },
        {
          "output_type": "display_data",
          "data": {
            "image/png": "[encoded data removed]",
            "text/plain": [
              "<Figure size 432x288 with 1 Axes>"
            ]
          },
          "metadata": {
            "tags": []
          }
        }
      ]
    },
    {
      "cell_type": "code",
      "metadata": {
        "id": "C0AEKawQ8Z_f",
        "colab_type": "code",
        "colab": {
          "base_uri": "https://localhost:8080/",
          "height": 935
        },
        "outputId": "9ed85f64-89b5-4283-ab9d-4ea68a18e30d"
      },
      "source": [
        "import torch.nn as nn\n",
        "import torch.nn.functional as F\n",
        "\n",
        "class BasicBlock(nn.Module):\n",
        "    expansion = 1\n",
        "\n",
        "    def __init__(self, in_planes, planes, stride=1):\n",
        "        super(BasicBlock, self).__init__()\n",
        "        self.conv1 = nn.Conv2d(in_planes, planes, kernel_size=3, stride=stride, padding=1, bias=False)\n",
        "        self.bn1 = nn.BatchNorm2d(planes)\n",
        "        #self.dropout1 = nn.Dropout(0.1)\n",
        "        self.conv2 = nn.Conv2d(planes, planes, kernel_size=3, stride=1, padding=1, bias=False)\n",
        "        self.bn2 = nn.BatchNorm2d(planes)\n",
        "        #self.dropout2 = nn.Dropout(0.2)\n",
        "\n",
        "        self.shortcut = nn.Sequential()\n",
        "        if stride != 1 or in_planes != self.expansion*planes:\n",
        "            self.shortcut = nn.Sequential(\n",
        "                nn.Conv2d(in_planes, self.expansion*planes, kernel_size=1, stride=stride, bias=False),\n",
        "                nn.BatchNorm2d(self.expansion*planes)\n",
        "            )\n",
        "\n",
        "    def forward(self, x):\n",
        "        out = F.relu(self.bn1(self.conv1(x)))\n",
        "        out = self.bn2(self.conv2(out))\n",
        "        out += self.shortcut(x)\n",
        "        out = F.relu(out)\n",
        "        return out\n",
        "    \n",
        "class ResNet(nn.Module):\n",
        "    def __init__(self, block, num_blocks, num_classes=20):\n",
        "        super(ResNet, self).__init__()\n",
        "        self.in_planes = 64\n",
        "\n",
        "        self.conv1 = nn.Conv2d(3, 64, kernel_size=3, stride=1, padding=1, bias=False)\n",
        "        self.conv2 = nn.Conv2d(64, 64, kernel_size=3, stride=1, padding=1, bias=False)\n",
        "        self.bn1 = nn.BatchNorm2d(64)\n",
        "        #self.dropout1 = nn.Dropout(0.2)\n",
        "        self.layer1 = self._make_layer(block, 64, num_blocks[0], stride=1)\n",
        "        self.layer2 = self._make_layer(block, 128, num_blocks[1], stride=2)\n",
        "        self.layer3 = self._make_layer(block, 256, num_blocks[2], stride=2)\n",
        "        self.layer4 = self._make_layer(block, 512, num_blocks[3], stride=2)\n",
        "        self.linear = nn.Linear(512*block.expansion, num_classes)\n",
        "\n",
        "    def _make_layer(self, block, planes, num_blocks, stride):\n",
        "        strides = [stride] + [1]*(num_blocks-1)\n",
        "        layers = []\n",
        "        for stride in strides:\n",
        "            layers.append(block(self.in_planes, planes, stride))\n",
        "            self.in_planes = planes * block.expansion\n",
        "        return nn.Sequential(*layers)\n",
        "\n",
        "    def forward(self, x):\n",
        "        out = F.relu(self.bn1(self.conv1(x)))\n",
        "        out = F.relu(self.bn1(self.conv2(out)))\n",
        "        out = self.layer1(out)\n",
        "        out = self.layer2(out)\n",
        "        out = self.layer3(out)\n",
        "        out = self.layer4(out)\n",
        "        out = F.avg_pool2d(out, 4)\n",
        "        out = out.view(out.size(0), -1)\n",
        "        out = self.linear(out)\n",
        "        return out    \n",
        "\n",
        "def ResNet10():\n",
        "    return ResNet(BasicBlock, [1,1,1,1],20) \n",
        "\n",
        "print(\"Let's use\", torch.cuda.device_count(), \"GPUs!\")\n",
        "net = ResNet10()\n",
        "net = nn.DataParallel(net)\n",
        "\n",
        "net.to(device)"
      ],
      "execution_count": 38,
      "outputs": [
        {
          "output_type": "stream",
          "text": [
            "Let's use 1 GPUs!\n"
          ],
          "name": "stdout"
        },
        {
          "output_type": "execute_result",
          "data": {
            "text/plain": [
              "DataParallel(\n",
              "  (module): ResNet(\n",
              "    (conv1): Conv2d(3, 64, kernel_size=(3, 3), stride=(1, 1), padding=(1, 1), bias=False)\n",
              "    (conv2): Conv2d(64, 64, kernel_size=(3, 3), stride=(1, 1), padding=(1, 1), bias=False)\n",
              "    (bn1): BatchNorm2d(64, eps=1e-05, momentum=0.1, affine=True, track_running_stats=True)\n",
              "    (layer1): Sequential(\n",
              "      (0): BasicBlock(\n",
              "        (conv1): Conv2d(64, 64, kernel_size=(3, 3), stride=(1, 1), padding=(1, 1), bias=False)\n",
              "        (bn1): BatchNorm2d(64, eps=1e-05, momentum=0.1, affine=True, track_running_stats=True)\n",
              "        (conv2): Conv2d(64, 64, kernel_size=(3, 3), stride=(1, 1), padding=(1, 1), bias=False)\n",
              "        (bn2): BatchNorm2d(64, eps=1e-05, momentum=0.1, affine=True, track_running_stats=True)\n",
              "        (shortcut): Sequential()\n",
              "      )\n",
              "    )\n",
              "    (layer2): Sequential(\n",
              "      (0): BasicBlock(\n",
              "        (conv1): Conv2d(64, 128, kernel_size=(3, 3), stride=(2, 2), padding=(1, 1), bias=False)\n",
              "        (bn1): BatchNorm2d(128, eps=1e-05, momentum=0.1, affine=True, track_running_stats=True)\n",
              "        (conv2): Conv2d(128, 128, kernel_size=(3, 3), stride=(1, 1), padding=(1, 1), bias=False)\n",
              "        (bn2): BatchNorm2d(128, eps=1e-05, momentum=0.1, affine=True, track_running_stats=True)\n",
              "        (shortcut): Sequential(\n",
              "          (0): Conv2d(64, 128, kernel_size=(1, 1), stride=(2, 2), bias=False)\n",
              "          (1): BatchNorm2d(128, eps=1e-05, momentum=0.1, affine=True, track_running_stats=True)\n",
              "        )\n",
              "      )\n",
              "    )\n",
              "    (layer3): Sequential(\n",
              "      (0): BasicBlock(\n",
              "        (conv1): Conv2d(128, 256, kernel_size=(3, 3), stride=(2, 2), padding=(1, 1), bias=False)\n",
              "        (bn1): BatchNorm2d(256, eps=1e-05, momentum=0.1, affine=True, track_running_stats=True)\n",
              "        (conv2): Conv2d(256, 256, kernel_size=(3, 3), stride=(1, 1), padding=(1, 1), bias=False)\n",
              "        (bn2): BatchNorm2d(256, eps=1e-05, momentum=0.1, affine=True, track_running_stats=True)\n",
              "        (shortcut): Sequential(\n",
              "          (0): Conv2d(128, 256, kernel_size=(1, 1), stride=(2, 2), bias=False)\n",
              "          (1): BatchNorm2d(256, eps=1e-05, momentum=0.1, affine=True, track_running_stats=True)\n",
              "        )\n",
              "      )\n",
              "    )\n",
              "    (layer4): Sequential(\n",
              "      (0): BasicBlock(\n",
              "        (conv1): Conv2d(256, 512, kernel_size=(3, 3), stride=(2, 2), padding=(1, 1), bias=False)\n",
              "        (bn1): BatchNorm2d(512, eps=1e-05, momentum=0.1, affine=True, track_running_stats=True)\n",
              "        (conv2): Conv2d(512, 512, kernel_size=(3, 3), stride=(1, 1), padding=(1, 1), bias=False)\n",
              "        (bn2): BatchNorm2d(512, eps=1e-05, momentum=0.1, affine=True, track_running_stats=True)\n",
              "        (shortcut): Sequential(\n",
              "          (0): Conv2d(256, 512, kernel_size=(1, 1), stride=(2, 2), bias=False)\n",
              "          (1): BatchNorm2d(512, eps=1e-05, momentum=0.1, affine=True, track_running_stats=True)\n",
              "        )\n",
              "      )\n",
              "    )\n",
              "    (linear): Linear(in_features=512, out_features=20, bias=True)\n",
              "  )\n",
              ")"
            ]
          },
          "metadata": {
            "tags": []
          },
          "execution_count": 38
        }
      ]
    },
    {
      "cell_type": "code",
      "metadata": {
        "id": "YJZ3_vD88dMW",
        "colab_type": "code",
        "colab": {}
      },
      "source": [
        "import torch.optim as optim\n",
        "import torch.nn as nn\n",
        "\n",
        "criterion = nn.CrossEntropyLoss()\n",
        "optimizer = optim.Adam(net.parameters(), lr=1.4470312499999999e-05,betas=(0.95,0.98))\n",
        "#optimizer = optim.SGD(net.parameters(), lr=0.1, momentum=0.9, weight_decay=5e-4)\n",
        "scheduler = optim.lr_scheduler.StepLR(optimizer, step_size=3, gamma=0.8)"
      ],
      "execution_count": 0,
      "outputs": []
    },
    {
      "cell_type": "code",
      "metadata": {
        "id": "7NAO4DO68f-Z",
        "colab_type": "code",
        "colab": {
          "base_uri": "https://localhost:8080/",
          "height": 833
        },
        "outputId": "c6dd8223-21ef-4225-85c0-a011db525751"
      },
      "source": [
        "for epoch in range(15):  # loop over the dataset multiple times\n",
        "    net.train()\n",
        "    train_correct = 0.0\n",
        "    running_loss = 0.0\n",
        "    for batch_idx, (data, target) in enumerate(trainloader):\n",
        "        data=data.to(device)\n",
        "        target=target.to(device)\n",
        "        #print(device)\n",
        "        # zero the parameter gradients\n",
        "        optimizer.zero_grad()\n",
        "\n",
        "        # forward + backward + optimize\n",
        "        outputs = net(data)\n",
        "        loss = criterion(outputs, target)\n",
        "        loss.backward()\n",
        "        optimizer.step()\n",
        "\n",
        "        # print statistics\n",
        "        running_loss += loss.item()\n",
        "        pred = outputs.data.max(1)[1]  # get the index of the max log-probability\n",
        "        train_correct += pred.eq(target.data).sum()\n",
        "        if batch_idx % 40 == 39:    # print every 1000 mini-batches\n",
        "            print('[%d, %5d] loss: %.5f Accuracy: %.1f' %\n",
        "                  (epoch + 1, batch_idx + 1, running_loss / 10000.0,100.0*train_correct/10000.0)+'%')\n",
        "            running_loss = 0.0\n",
        "            train_correct = 0.0\n",
        "    train_correct = 0.0\n",
        "    scheduler.step()\n",
        "    print(\"Current learning rate is\", scheduler.get_lr())\n",
        "    #net.eval()\n",
        "    for batch_idx, (data, target) in enumerate(testloader):\n",
        "        data = data.to(device)\n",
        "        target = target.to(device)\n",
        "        outputs = net(data)\n",
        "        pred = outputs.data.max(1)[1]\n",
        "        train_correct += pred.eq(target.data).sum()\n",
        "    print('Test Accuracy: %.2f' %\n",
        "                      (100.0*train_correct/len(testloader.dataset))+'%')\n",
        "print('Finished Training')"
      ],
      "execution_count": 0,
      "outputs": [
        {
          "output_type": "stream",
          "text": [
            "[1,    40] loss: 0.00411 Accuracy: 67.0%\n",
            "[1,    80] loss: 0.00408 Accuracy: 67.0%\n",
            "[1,   120] loss: 0.00416 Accuracy: 67.0%\n",
            "[1,   160] loss: 0.00414 Accuracy: 67.0%\n",
            "[1,   200] loss: 0.00415 Accuracy: 67.0%\n",
            "[1,   240] loss: 0.00421 Accuracy: 66.0%\n",
            "[1,   280] loss: 0.00413 Accuracy: 67.0%\n",
            "[1,   320] loss: 0.00408 Accuracy: 67.0%\n",
            "[1,   360] loss: 0.00411 Accuracy: 67.0%\n",
            "Current learning rate is [1.4470312499999999e-05]\n",
            "Test Accuracy: 55.00%\n",
            "[2,    40] loss: 0.00403 Accuracy: 68.0%\n",
            "[2,    80] loss: 0.00404 Accuracy: 67.0%\n",
            "[2,   120] loss: 0.00409 Accuracy: 67.0%\n",
            "[2,   160] loss: 0.00411 Accuracy: 67.0%\n",
            "[2,   200] loss: 0.00408 Accuracy: 68.0%\n",
            "[2,   240] loss: 0.00409 Accuracy: 67.0%\n",
            "[2,   280] loss: 0.00413 Accuracy: 67.0%\n",
            "[2,   320] loss: 0.00421 Accuracy: 67.0%\n",
            "[2,   360] loss: 0.00411 Accuracy: 66.0%\n",
            "Current learning rate is [1.4470312499999999e-05]\n",
            "Test Accuracy: 55.00%\n",
            "[3,    40] loss: 0.00406 Accuracy: 67.0%\n",
            "[3,    80] loss: 0.00409 Accuracy: 67.0%\n",
            "[3,   120] loss: 0.00402 Accuracy: 68.0%\n",
            "[3,   160] loss: 0.00412 Accuracy: 67.0%\n",
            "[3,   200] loss: 0.00414 Accuracy: 67.0%\n",
            "[3,   240] loss: 0.00409 Accuracy: 67.0%\n",
            "[3,   280] loss: 0.00411 Accuracy: 67.0%\n",
            "[3,   320] loss: 0.00415 Accuracy: 67.0%\n",
            "[3,   360] loss: 0.00404 Accuracy: 68.0%\n",
            "Current learning rate is [9.261e-06]\n",
            "Test Accuracy: 55.00%\n",
            "[4,    40] loss: 0.00402 Accuracy: 68.0%\n",
            "[4,    80] loss: 0.00405 Accuracy: 68.0%\n",
            "[4,   120] loss: 0.00406 Accuracy: 67.0%\n",
            "[4,   160] loss: 0.00406 Accuracy: 68.0%\n",
            "[4,   200] loss: 0.00403 Accuracy: 68.0%\n",
            "[4,   240] loss: 0.00404 Accuracy: 68.0%\n",
            "[4,   280] loss: 0.00402 Accuracy: 68.0%\n",
            "[4,   320] loss: 0.00395 Accuracy: 69.0%\n",
            "[4,   360] loss: 0.00403 Accuracy: 68.0%\n",
            "Current learning rate is [1.157625e-05]\n",
            "Test Accuracy: 56.00%\n",
            "[5,    40] loss: 0.00403 Accuracy: 68.0%\n",
            "[5,    80] loss: 0.00400 Accuracy: 68.0%\n",
            "[5,   120] loss: 0.00395 Accuracy: 68.0%\n",
            "[5,   160] loss: 0.00400 Accuracy: 68.0%\n"
          ],
          "name": "stdout"
        }
      ]
    },
    {
      "cell_type": "code",
      "metadata": {
        "id": "-J86CbSq8jiE",
        "colab_type": "code",
        "colab": {}
      },
      "source": [
        "transform_test = transforms.Compose([\n",
        "    transforms.ToTensor(),\n",
        "    transforms.Normalize((0.4914, 0.4822, 0.4465), (0.2023, 0.1994, 0.2010)),\n",
        "])\n",
        "test_data = np.load('./cifar_test_data.npy').transpose((0,2,3,1))\n",
        "testset = NumpyImageDataset(test_data,np.zeros(10000),transform=transform_test)\n",
        "testloader = torch.utils.data.DataLoader(testset, batch_size=50, shuffle=False, num_workers=0)\n",
        "resultz=np.zeros(len(testloader.dataset))\n",
        "index=0\n",
        "for batch_idx, (data, target) in enumerate(testloader):\n",
        "    data=data.to(device)\n",
        "    target=target.to(device)\n",
        "    outputs = net(data)\n",
        "    #print(outputs)\n",
        "    #print(outputs.data.max(1)[1])\n",
        "    for i in range(50):\n",
        "        resultz[batch_idx * 50+i] = outputs.data.max(1)[1][i] "
      ],
      "execution_count": 0,
      "outputs": []
    },
    {
      "cell_type": "code",
      "metadata": {
        "id": "aKo02yMy8pJQ",
        "colab_type": "code",
        "colab": {}
      },
      "source": [
        "#print(outputs)\n",
        "#print(outputs.data.max(1)[1])\n",
        "np.save('./results2.npy',resultz)"
      ],
      "execution_count": 0,
      "outputs": []
    },
    {
      "cell_type": "code",
      "metadata": {
        "id": "DRm0_eWo8rZh",
        "colab_type": "code",
        "colab": {}
      },
      "source": [
        "import sys\n",
        "# You can also import his python and call the following function\n",
        "# to generate the submission file\n",
        "def writeSubmissionFile(labels, fn):\n",
        "    f = open(fn, 'w')\n",
        "    f.write(\"id,category\\n\")\n",
        "    for ii, ll in enumerate(labels):\n",
        "        f.write(str(ii) + \",\" + str(int(ll)) + \"\\n\")\n",
        "\n",
        "    f.close()"
      ],
      "execution_count": 0,
      "outputs": []
    },
    {
      "cell_type": "code",
      "metadata": {
        "id": "Fw74CeQY8tiQ",
        "colab_type": "code",
        "colab": {}
      },
      "source": [
        "writeSubmissionFile(np.load('./results2.npy'), './submit2.csv')"
      ],
      "execution_count": 0,
      "outputs": []
    }
  ]
}